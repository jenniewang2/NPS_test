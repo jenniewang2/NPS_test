{
 "cells": [
  {
   "cell_type": "code",
   "execution_count": 1,
   "id": "d17a111c",
   "metadata": {},
   "outputs": [],
   "source": [
    "import pandas as pd\n",
    "import numpy as np\n",
    "import itertools"
   ]
  },
  {
   "cell_type": "code",
   "execution_count": 2,
   "id": "23fa2f9a",
   "metadata": {},
   "outputs": [],
   "source": [
    "#factors definition\n",
    "NPS_Score = [\"Detractor\"]\n",
    "Customer_type = [\"New\", \"Repeat\"]\n",
    "AOV = [\"High\", \"Medium\", \"Low\"]\n",
    "Feedback_theme = [\"Communication\", \"Customer Experience\", \"Legal/Escalation\", \"Pricing\", \n",
    "                  \"Transit/Delivery\", \"Product Merchandising\", \"Customer Service\", \"Product Supply Chain\", \"Return/Resolutions\",\n",
    "                  \"Other\"]\n"
   ]
  },
  {
   "cell_type": "code",
   "execution_count": 8,
   "id": "d4bcbd90",
   "metadata": {},
   "outputs": [],
   "source": [
    "#creating master list\n",
    "segmentation_list = [NPS_Score, Customer_type, AOV, Feedback_theme]\n",
    "my_list = pd.DataFrame(itertools.product(*segmentation_list))\n",
    "my_list.columns = [\"NPS_Score\", \"Customer_type\", \"AOV\", \"Feedback_theme\"]"
   ]
  },
  {
   "cell_type": "code",
   "execution_count": 9,
   "id": "d14803d1",
   "metadata": {},
   "outputs": [
    {
     "name": "stdout",
     "output_type": "stream",
     "text": [
      "   NPS_Score Customer_type   AOV         Feedback_theme\n",
      "0  Detractor           New  High          Communication\n",
      "1  Detractor           New  High    Customer Experience\n",
      "2  Detractor           New  High       Legal/Escalation\n",
      "3  Detractor           New  High                Pricing\n",
      "4  Detractor           New  High       Transit/Delivery\n",
      "5  Detractor           New  High  Product Merchandising\n",
      "6  Detractor           New  High       Customer Service\n",
      "7  Detractor           New  High   Product Supply Chain\n",
      "8  Detractor           New  High     Return/Resolutions\n",
      "9  Detractor           New  High                  Other\n"
     ]
    }
   ],
   "source": [
    "#checking first 10 rows\n",
    "print(my_list.head(10))"
   ]
  },
  {
   "cell_type": "code",
   "execution_count": 10,
   "id": "b6664e12",
   "metadata": {},
   "outputs": [
    {
     "data": {
      "text/plain": [
       "(60, 4)"
      ]
     },
     "execution_count": 10,
     "metadata": {},
     "output_type": "execute_result"
    }
   ],
   "source": [
    "#outputting size of list (rows, columns)\n",
    "my_list.shape"
   ]
  },
  {
   "cell_type": "code",
   "execution_count": null,
   "id": "d3c6e978",
   "metadata": {},
   "outputs": [],
   "source": []
  }
 ],
 "metadata": {
  "kernelspec": {
   "display_name": "Python 3",
   "language": "python",
   "name": "python3"
  },
  "language_info": {
   "codemirror_mode": {
    "name": "ipython",
    "version": 3
   },
   "file_extension": ".py",
   "mimetype": "text/x-python",
   "name": "python",
   "nbconvert_exporter": "python",
   "pygments_lexer": "ipython3",
   "version": "3.8.8"
  }
 },
 "nbformat": 4,
 "nbformat_minor": 5
}
